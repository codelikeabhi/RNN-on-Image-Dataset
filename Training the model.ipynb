{
  "nbformat": 4,
  "nbformat_minor": 0,
  "metadata": {
    "colab": {
      "provenance": [],
      "gpuType": "T4"
    },
    "kernelspec": {
      "name": "python3",
      "display_name": "Python 3"
    },
    "language_info": {
      "name": "python"
    },
    "accelerator": "GPU"
  },
  "cells": [
    {
      "cell_type": "code",
      "execution_count": 1,
      "metadata": {
        "id": "lmi2-qXvCkcN"
      },
      "outputs": [],
      "source": [
        "from google.colab import drive"
      ]
    },
    {
      "cell_type": "code",
      "source": [
        "drive.mount('/content/drive')"
      ],
      "metadata": {
        "colab": {
          "base_uri": "https://localhost:8080/"
        },
        "id": "oU7MKNuZDXgL",
        "outputId": "66df2923-0531-46c2-888b-46ab7e831ff5"
      },
      "execution_count": 2,
      "outputs": [
        {
          "output_type": "stream",
          "name": "stdout",
          "text": [
            "Drive already mounted at /content/drive; to attempt to forcibly remount, call drive.mount(\"/content/drive\", force_remount=True).\n"
          ]
        }
      ]
    },
    {
      "cell_type": "code",
      "source": [
        "import os\n",
        "import cv2\n",
        "import numpy as np\n",
        "from sklearn.model_selection import train_test_split\n",
        "from tensorflow.keras.models import Sequential\n",
        "from tensorflow.keras.layers import LSTM, Dense, Flatten"
      ],
      "metadata": {
        "id": "woHUoX_GDqOC"
      },
      "execution_count": 3,
      "outputs": []
    },
    {
      "cell_type": "code",
      "source": [
        "# Function to load images from directory and create sequences\n",
        "def load_images_from_folder(folder):\n",
        "    images = []\n",
        "    for filename in os.listdir(folder):\n",
        "        img = cv2.imread(os.path.join(folder, filename))\n",
        "        if img is not None:\n",
        "            img = cv2.resize(img, (64, 64))  # Resize image to a common size\n",
        "            images.append(img)\n",
        "    return images"
      ],
      "metadata": {
        "id": "8spLXQmUEhdh"
      },
      "execution_count": 4,
      "outputs": []
    },
    {
      "cell_type": "code",
      "source": [
        "dogs = '/content/drive/MyDrive/images/dog'\n",
        "cats = '/content/drive/MyDrive/images/cat'"
      ],
      "metadata": {
        "id": "RE5pkxJ2EomL"
      },
      "execution_count": 5,
      "outputs": []
    },
    {
      "cell_type": "code",
      "source": [
        "dogs_images = load_images_from_folder(dogs)\n",
        "cats_images = load_images_from_folder(cats)"
      ],
      "metadata": {
        "id": "NrfrLJZKHl7m"
      },
      "execution_count": 6,
      "outputs": []
    },
    {
      "cell_type": "code",
      "source": [
        "# Create labels (1 for dogs, 0 for cats)\n",
        "dogs_labels = np.ones(len(dogs_images))\n",
        "cats_labels = np.zeros(len(cats_images))"
      ],
      "metadata": {
        "id": "xXnQKhrAHs3j"
      },
      "execution_count": 7,
      "outputs": []
    },
    {
      "cell_type": "code",
      "source": [
        "# Concatenate images and labels\n",
        "images = np.array(dogs_images + cats_images)\n",
        "labels = np.concatenate((dogs_labels, cats_labels), axis=0)"
      ],
      "metadata": {
        "id": "fWsKj1wwH4RE"
      },
      "execution_count": 8,
      "outputs": []
    },
    {
      "cell_type": "code",
      "source": [
        "# Split data into training and testing sets\n",
        "train_images, test_images, train_labels, test_labels = train_test_split(\n",
        "    images, labels, test_size=0.2, random_state=42\n",
        ")"
      ],
      "metadata": {
        "id": "TxqH6nXZH751"
      },
      "execution_count": 9,
      "outputs": []
    },
    {
      "cell_type": "code",
      "source": [
        "print(train_images.shape, train_labels.shape)\n",
        "print(test_images.shape, test_labels.shape)"
      ],
      "metadata": {
        "colab": {
          "base_uri": "https://localhost:8080/"
        },
        "id": "bJiaum6CI44j",
        "outputId": "ec0a5f48-e7ae-413e-ff10-cb25d7c7f956"
      },
      "execution_count": 10,
      "outputs": [
        {
          "output_type": "stream",
          "name": "stdout",
          "text": [
            "(219, 64, 64, 3) (219,)\n",
            "(55, 64, 64, 3) (55,)\n"
          ]
        }
      ]
    },
    {
      "cell_type": "code",
      "source": [
        "# Normalize pixel values\n",
        "train_images = train_images / 255.0\n",
        "test_images = test_images / 255.0"
      ],
      "metadata": {
        "id": "qozh0yLpIAY2"
      },
      "execution_count": 11,
      "outputs": []
    },
    {
      "cell_type": "code",
      "source": [
        "print(train_images.shape, train_labels.shape)\n",
        "print(test_images.shape, test_labels.shape)"
      ],
      "metadata": {
        "colab": {
          "base_uri": "https://localhost:8080/"
        },
        "id": "X_oxr5Ysim-7",
        "outputId": "1f442478-5142-4ba7-8a08-085157fd43b5"
      },
      "execution_count": 12,
      "outputs": [
        {
          "output_type": "stream",
          "name": "stdout",
          "text": [
            "(219, 64, 64, 3) (219,)\n",
            "(55, 64, 64, 3) (55,)\n"
          ]
        }
      ]
    },
    {
      "cell_type": "code",
      "source": [
        "# Reshape images into sequences (considering each row as a time step)\n",
        "time_steps = 64  # Number of time steps (rows)\n",
        "input_dim = 64    # Dimension of each time step (columns)\n",
        "input_channels = 3"
      ],
      "metadata": {
        "id": "PMVKTm6PIDKe"
      },
      "execution_count": 13,
      "outputs": []
    },
    {
      "cell_type": "code",
      "source": [
        "print(train_images.shape, train_labels.shape)\n",
        "print(test_images.shape, test_labels.shape)"
      ],
      "metadata": {
        "colab": {
          "base_uri": "https://localhost:8080/"
        },
        "id": "70zZMx2vitBM",
        "outputId": "6402b0bb-aa41-4ffc-ba23-fe69ce5a1067"
      },
      "execution_count": 14,
      "outputs": [
        {
          "output_type": "stream",
          "name": "stdout",
          "text": [
            "(219, 64, 64, 3) (219,)\n",
            "(55, 64, 64, 3) (55,)\n"
          ]
        }
      ]
    },
    {
      "cell_type": "code",
      "source": [
        "# Reshape images into sequences for LSTM\n",
        "train_images = train_images.reshape((-1, time_steps, input_dim * input_channels))\n",
        "test_images = test_images.reshape((-1, time_steps, input_dim * input_channels))\n"
      ],
      "metadata": {
        "id": "cPMAnGRFIG5O"
      },
      "execution_count": 15,
      "outputs": []
    },
    {
      "cell_type": "code",
      "source": [
        "print(train_images.shape, train_labels.shape)\n",
        "print(test_images.shape, test_labels.shape)"
      ],
      "metadata": {
        "colab": {
          "base_uri": "https://localhost:8080/"
        },
        "id": "P6brsg8HiwM2",
        "outputId": "49e2b837-efff-446f-ad8e-d47c20eb1da9"
      },
      "execution_count": 16,
      "outputs": [
        {
          "output_type": "stream",
          "name": "stdout",
          "text": [
            "(219, 64, 192) (219,)\n",
            "(55, 64, 192) (55,)\n"
          ]
        }
      ]
    },
    {
      "cell_type": "code",
      "source": [
        "# Define the RNN model\n",
        "model = Sequential()\n",
        "model.add(LSTM(128, input_shape=(time_steps, input_dim * input_channels)))\n",
        "model.add(Dense(64, activation='relu'))\n",
        "model.add(Dense(1, activation='sigmoid'))  # Output layer for binary classification"
      ],
      "metadata": {
        "id": "S0XQPvRiIJh_"
      },
      "execution_count": 17,
      "outputs": []
    },
    {
      "cell_type": "code",
      "source": [
        "# Compile the model\n",
        "model.compile(optimizer='adam', loss='binary_crossentropy', metrics=['accuracy'])"
      ],
      "metadata": {
        "id": "eO7Lgge6INbH"
      },
      "execution_count": 18,
      "outputs": []
    },
    {
      "cell_type": "code",
      "source": [
        "print(train_images.shape)\n",
        "print(train_labels.shape)\n",
        "print(test_images.shape)\n",
        "print(test_labels.shape)\n"
      ],
      "metadata": {
        "colab": {
          "base_uri": "https://localhost:8080/"
        },
        "id": "vgyl6yt7IQ3_",
        "outputId": "0ae38cc7-3bdb-4228-d5e8-d45e5b48bcda"
      },
      "execution_count": 19,
      "outputs": [
        {
          "output_type": "stream",
          "name": "stdout",
          "text": [
            "(219, 64, 192)\n",
            "(219,)\n",
            "(55, 64, 192)\n",
            "(55,)\n"
          ]
        }
      ]
    },
    {
      "cell_type": "code",
      "source": [
        "# Train the model\n",
        "model.fit(train_images, train_labels, epochs=100, batch_size=32, validation_data=(test_images, test_labels))"
      ],
      "metadata": {
        "colab": {
          "base_uri": "https://localhost:8080/"
        },
        "id": "BcPUpwyJIVZ_",
        "outputId": "b80fd93c-f535-4386-ae19-86a5a9aa1d65"
      },
      "execution_count": 20,
      "outputs": [
        {
          "output_type": "stream",
          "name": "stdout",
          "text": [
            "Epoch 1/100\n",
            "7/7 [==============================] - 4s 101ms/step - loss: 0.7029 - accuracy: 0.4840 - val_loss: 0.7024 - val_accuracy: 0.5273\n",
            "Epoch 2/100\n",
            "7/7 [==============================] - 0s 18ms/step - loss: 0.6820 - accuracy: 0.5571 - val_loss: 0.6997 - val_accuracy: 0.4909\n",
            "Epoch 3/100\n",
            "7/7 [==============================] - 0s 16ms/step - loss: 0.6758 - accuracy: 0.5753 - val_loss: 0.7086 - val_accuracy: 0.4909\n",
            "Epoch 4/100\n",
            "7/7 [==============================] - 0s 16ms/step - loss: 0.6618 - accuracy: 0.5616 - val_loss: 0.7150 - val_accuracy: 0.4727\n",
            "Epoch 5/100\n",
            "7/7 [==============================] - 0s 16ms/step - loss: 0.6437 - accuracy: 0.6712 - val_loss: 0.7402 - val_accuracy: 0.4182\n",
            "Epoch 6/100\n",
            "7/7 [==============================] - 0s 18ms/step - loss: 0.6308 - accuracy: 0.6164 - val_loss: 0.7477 - val_accuracy: 0.4727\n",
            "Epoch 7/100\n",
            "7/7 [==============================] - 0s 17ms/step - loss: 0.6173 - accuracy: 0.6804 - val_loss: 0.7662 - val_accuracy: 0.4727\n",
            "Epoch 8/100\n",
            "7/7 [==============================] - 0s 18ms/step - loss: 0.5981 - accuracy: 0.6758 - val_loss: 0.7970 - val_accuracy: 0.5091\n",
            "Epoch 9/100\n",
            "7/7 [==============================] - 0s 17ms/step - loss: 0.5590 - accuracy: 0.7215 - val_loss: 0.8846 - val_accuracy: 0.5273\n",
            "Epoch 10/100\n",
            "7/7 [==============================] - 0s 17ms/step - loss: 0.6497 - accuracy: 0.6164 - val_loss: 0.7838 - val_accuracy: 0.4909\n",
            "Epoch 11/100\n",
            "7/7 [==============================] - 0s 17ms/step - loss: 0.5770 - accuracy: 0.7032 - val_loss: 0.7890 - val_accuracy: 0.5636\n",
            "Epoch 12/100\n",
            "7/7 [==============================] - 0s 15ms/step - loss: 0.5648 - accuracy: 0.6804 - val_loss: 0.9795 - val_accuracy: 0.4909\n",
            "Epoch 13/100\n",
            "7/7 [==============================] - 0s 15ms/step - loss: 0.5622 - accuracy: 0.6849 - val_loss: 0.8396 - val_accuracy: 0.5273\n",
            "Epoch 14/100\n",
            "7/7 [==============================] - 0s 15ms/step - loss: 0.5594 - accuracy: 0.6941 - val_loss: 0.8430 - val_accuracy: 0.4545\n",
            "Epoch 15/100\n",
            "7/7 [==============================] - 0s 14ms/step - loss: 0.5817 - accuracy: 0.6484 - val_loss: 0.9716 - val_accuracy: 0.5091\n",
            "Epoch 16/100\n",
            "7/7 [==============================] - 0s 15ms/step - loss: 0.5227 - accuracy: 0.7215 - val_loss: 0.9110 - val_accuracy: 0.4909\n",
            "Epoch 17/100\n",
            "7/7 [==============================] - 0s 16ms/step - loss: 0.5044 - accuracy: 0.7306 - val_loss: 0.9883 - val_accuracy: 0.4000\n",
            "Epoch 18/100\n",
            "7/7 [==============================] - 0s 14ms/step - loss: 0.4848 - accuracy: 0.7534 - val_loss: 1.0877 - val_accuracy: 0.4545\n",
            "Epoch 19/100\n",
            "7/7 [==============================] - 0s 17ms/step - loss: 0.4632 - accuracy: 0.7580 - val_loss: 1.0963 - val_accuracy: 0.5273\n",
            "Epoch 20/100\n",
            "7/7 [==============================] - 0s 24ms/step - loss: 0.4411 - accuracy: 0.7717 - val_loss: 1.2194 - val_accuracy: 0.4364\n",
            "Epoch 21/100\n",
            "7/7 [==============================] - 0s 20ms/step - loss: 0.4321 - accuracy: 0.7854 - val_loss: 1.2774 - val_accuracy: 0.4727\n",
            "Epoch 22/100\n",
            "7/7 [==============================] - 0s 21ms/step - loss: 0.3735 - accuracy: 0.8447 - val_loss: 1.4117 - val_accuracy: 0.4545\n",
            "Epoch 23/100\n",
            "7/7 [==============================] - 0s 19ms/step - loss: 0.4106 - accuracy: 0.7580 - val_loss: 1.2724 - val_accuracy: 0.4909\n",
            "Epoch 24/100\n",
            "7/7 [==============================] - 0s 20ms/step - loss: 0.4055 - accuracy: 0.7991 - val_loss: 1.3899 - val_accuracy: 0.4727\n",
            "Epoch 25/100\n",
            "7/7 [==============================] - 0s 20ms/step - loss: 0.3988 - accuracy: 0.8037 - val_loss: 1.5832 - val_accuracy: 0.4545\n",
            "Epoch 26/100\n",
            "7/7 [==============================] - 0s 19ms/step - loss: 0.4826 - accuracy: 0.7260 - val_loss: 1.3742 - val_accuracy: 0.4182\n",
            "Epoch 27/100\n",
            "7/7 [==============================] - 0s 27ms/step - loss: 0.4517 - accuracy: 0.7763 - val_loss: 1.4418 - val_accuracy: 0.4364\n",
            "Epoch 28/100\n",
            "7/7 [==============================] - 0s 21ms/step - loss: 0.3823 - accuracy: 0.8219 - val_loss: 1.4136 - val_accuracy: 0.4545\n",
            "Epoch 29/100\n",
            "7/7 [==============================] - 0s 21ms/step - loss: 0.3624 - accuracy: 0.8082 - val_loss: 1.3325 - val_accuracy: 0.4909\n",
            "Epoch 30/100\n",
            "7/7 [==============================] - 0s 19ms/step - loss: 0.3089 - accuracy: 0.8584 - val_loss: 1.5545 - val_accuracy: 0.4545\n",
            "Epoch 31/100\n",
            "7/7 [==============================] - 0s 20ms/step - loss: 0.2926 - accuracy: 0.8493 - val_loss: 1.5264 - val_accuracy: 0.4545\n",
            "Epoch 32/100\n",
            "7/7 [==============================] - 0s 20ms/step - loss: 0.3254 - accuracy: 0.8356 - val_loss: 1.5953 - val_accuracy: 0.4909\n",
            "Epoch 33/100\n",
            "7/7 [==============================] - 0s 20ms/step - loss: 0.3721 - accuracy: 0.8128 - val_loss: 1.3988 - val_accuracy: 0.4909\n",
            "Epoch 34/100\n",
            "7/7 [==============================] - 0s 29ms/step - loss: 0.2870 - accuracy: 0.8904 - val_loss: 1.3731 - val_accuracy: 0.5273\n",
            "Epoch 35/100\n",
            "7/7 [==============================] - 0s 20ms/step - loss: 0.2790 - accuracy: 0.8539 - val_loss: 1.4778 - val_accuracy: 0.5636\n",
            "Epoch 36/100\n",
            "7/7 [==============================] - 0s 21ms/step - loss: 0.2129 - accuracy: 0.8904 - val_loss: 1.5785 - val_accuracy: 0.5636\n",
            "Epoch 37/100\n",
            "7/7 [==============================] - 0s 22ms/step - loss: 0.2037 - accuracy: 0.9087 - val_loss: 1.8260 - val_accuracy: 0.4545\n",
            "Epoch 38/100\n",
            "7/7 [==============================] - 0s 20ms/step - loss: 0.2232 - accuracy: 0.9132 - val_loss: 1.8306 - val_accuracy: 0.4364\n",
            "Epoch 39/100\n",
            "7/7 [==============================] - 0s 20ms/step - loss: 0.4538 - accuracy: 0.7991 - val_loss: 1.1754 - val_accuracy: 0.5455\n",
            "Epoch 40/100\n",
            "7/7 [==============================] - 0s 20ms/step - loss: 0.4079 - accuracy: 0.7671 - val_loss: 1.2112 - val_accuracy: 0.5091\n",
            "Epoch 41/100\n",
            "7/7 [==============================] - 0s 22ms/step - loss: 0.2959 - accuracy: 0.8858 - val_loss: 1.4110 - val_accuracy: 0.5273\n",
            "Epoch 42/100\n",
            "7/7 [==============================] - 0s 20ms/step - loss: 0.2379 - accuracy: 0.8904 - val_loss: 1.6282 - val_accuracy: 0.4727\n",
            "Epoch 43/100\n",
            "7/7 [==============================] - 0s 20ms/step - loss: 0.2286 - accuracy: 0.8950 - val_loss: 1.7447 - val_accuracy: 0.4364\n",
            "Epoch 44/100\n",
            "7/7 [==============================] - 0s 19ms/step - loss: 0.2485 - accuracy: 0.8813 - val_loss: 1.6655 - val_accuracy: 0.4545\n",
            "Epoch 45/100\n",
            "7/7 [==============================] - 0s 20ms/step - loss: 0.2083 - accuracy: 0.9132 - val_loss: 1.7388 - val_accuracy: 0.5091\n",
            "Epoch 46/100\n",
            "7/7 [==============================] - 0s 23ms/step - loss: 0.2107 - accuracy: 0.9041 - val_loss: 1.9417 - val_accuracy: 0.4909\n",
            "Epoch 47/100\n",
            "7/7 [==============================] - 0s 31ms/step - loss: 0.3428 - accuracy: 0.8676 - val_loss: 1.6381 - val_accuracy: 0.4545\n",
            "Epoch 48/100\n",
            "7/7 [==============================] - 0s 48ms/step - loss: 0.2733 - accuracy: 0.8904 - val_loss: 1.5027 - val_accuracy: 0.5636\n",
            "Epoch 49/100\n",
            "7/7 [==============================] - 0s 49ms/step - loss: 0.2037 - accuracy: 0.9224 - val_loss: 1.9580 - val_accuracy: 0.4364\n",
            "Epoch 50/100\n",
            "7/7 [==============================] - 0s 57ms/step - loss: 0.1634 - accuracy: 0.9315 - val_loss: 1.9226 - val_accuracy: 0.5273\n",
            "Epoch 51/100\n",
            "7/7 [==============================] - 0s 37ms/step - loss: 0.1675 - accuracy: 0.9178 - val_loss: 1.9322 - val_accuracy: 0.4727\n",
            "Epoch 52/100\n",
            "7/7 [==============================] - 0s 27ms/step - loss: 0.1549 - accuracy: 0.9452 - val_loss: 2.1960 - val_accuracy: 0.4727\n",
            "Epoch 53/100\n",
            "7/7 [==============================] - 0s 22ms/step - loss: 0.2441 - accuracy: 0.8767 - val_loss: 1.8654 - val_accuracy: 0.5091\n",
            "Epoch 54/100\n",
            "7/7 [==============================] - 0s 31ms/step - loss: 0.1966 - accuracy: 0.9269 - val_loss: 1.9759 - val_accuracy: 0.4000\n",
            "Epoch 55/100\n",
            "7/7 [==============================] - 0s 26ms/step - loss: 0.1718 - accuracy: 0.9361 - val_loss: 2.0930 - val_accuracy: 0.4182\n",
            "Epoch 56/100\n",
            "7/7 [==============================] - 0s 36ms/step - loss: 0.1826 - accuracy: 0.9315 - val_loss: 2.4359 - val_accuracy: 0.4545\n",
            "Epoch 57/100\n",
            "7/7 [==============================] - 0s 32ms/step - loss: 0.1823 - accuracy: 0.9224 - val_loss: 1.9835 - val_accuracy: 0.4727\n",
            "Epoch 58/100\n",
            "7/7 [==============================] - 0s 42ms/step - loss: 0.1157 - accuracy: 0.9680 - val_loss: 2.2712 - val_accuracy: 0.5091\n",
            "Epoch 59/100\n",
            "7/7 [==============================] - 0s 24ms/step - loss: 0.1105 - accuracy: 0.9543 - val_loss: 2.4615 - val_accuracy: 0.4727\n",
            "Epoch 60/100\n",
            "7/7 [==============================] - 0s 36ms/step - loss: 0.1550 - accuracy: 0.9315 - val_loss: 2.5827 - val_accuracy: 0.4727\n",
            "Epoch 61/100\n",
            "7/7 [==============================] - 0s 50ms/step - loss: 0.0839 - accuracy: 0.9726 - val_loss: 2.6438 - val_accuracy: 0.4909\n",
            "Epoch 62/100\n",
            "7/7 [==============================] - 0s 25ms/step - loss: 0.0655 - accuracy: 0.9863 - val_loss: 2.5650 - val_accuracy: 0.5091\n",
            "Epoch 63/100\n",
            "7/7 [==============================] - 0s 32ms/step - loss: 0.0630 - accuracy: 0.9726 - val_loss: 2.7623 - val_accuracy: 0.4545\n",
            "Epoch 64/100\n",
            "7/7 [==============================] - 0s 40ms/step - loss: 0.1523 - accuracy: 0.9132 - val_loss: 2.5527 - val_accuracy: 0.5091\n",
            "Epoch 65/100\n",
            "7/7 [==============================] - 0s 52ms/step - loss: 0.1802 - accuracy: 0.9315 - val_loss: 2.4855 - val_accuracy: 0.4545\n",
            "Epoch 66/100\n",
            "7/7 [==============================] - 0s 39ms/step - loss: 0.1481 - accuracy: 0.9589 - val_loss: 2.5826 - val_accuracy: 0.4727\n",
            "Epoch 67/100\n",
            "7/7 [==============================] - 0s 60ms/step - loss: 0.1209 - accuracy: 0.9543 - val_loss: 2.3295 - val_accuracy: 0.4727\n",
            "Epoch 68/100\n",
            "7/7 [==============================] - 0s 33ms/step - loss: 0.1021 - accuracy: 0.9772 - val_loss: 2.4004 - val_accuracy: 0.4727\n",
            "Epoch 69/100\n",
            "7/7 [==============================] - 0s 41ms/step - loss: 0.0939 - accuracy: 0.9589 - val_loss: 2.4974 - val_accuracy: 0.4909\n",
            "Epoch 70/100\n",
            "7/7 [==============================] - 0s 43ms/step - loss: 0.0578 - accuracy: 0.9954 - val_loss: 2.2043 - val_accuracy: 0.5455\n",
            "Epoch 71/100\n",
            "7/7 [==============================] - 0s 21ms/step - loss: 0.0751 - accuracy: 0.9680 - val_loss: 2.5560 - val_accuracy: 0.4727\n",
            "Epoch 72/100\n",
            "7/7 [==============================] - 0s 22ms/step - loss: 0.0427 - accuracy: 0.9909 - val_loss: 2.7538 - val_accuracy: 0.4545\n",
            "Epoch 73/100\n",
            "7/7 [==============================] - 0s 43ms/step - loss: 0.0434 - accuracy: 0.9680 - val_loss: 3.0181 - val_accuracy: 0.4727\n",
            "Epoch 74/100\n",
            "7/7 [==============================] - 0s 36ms/step - loss: 0.0164 - accuracy: 0.9954 - val_loss: 3.0970 - val_accuracy: 0.4545\n",
            "Epoch 75/100\n",
            "7/7 [==============================] - 0s 18ms/step - loss: 0.0152 - accuracy: 0.9954 - val_loss: 3.1507 - val_accuracy: 0.4727\n",
            "Epoch 76/100\n",
            "7/7 [==============================] - 0s 15ms/step - loss: 0.0678 - accuracy: 0.9680 - val_loss: 3.0430 - val_accuracy: 0.4727\n",
            "Epoch 77/100\n",
            "7/7 [==============================] - 0s 15ms/step - loss: 0.0991 - accuracy: 0.9726 - val_loss: 2.9743 - val_accuracy: 0.4909\n",
            "Epoch 78/100\n",
            "7/7 [==============================] - 0s 15ms/step - loss: 0.2118 - accuracy: 0.9132 - val_loss: 2.3837 - val_accuracy: 0.4545\n",
            "Epoch 79/100\n",
            "7/7 [==============================] - 0s 14ms/step - loss: 0.1411 - accuracy: 0.9406 - val_loss: 2.1308 - val_accuracy: 0.4909\n",
            "Epoch 80/100\n",
            "7/7 [==============================] - 0s 18ms/step - loss: 0.0954 - accuracy: 0.9772 - val_loss: 2.7682 - val_accuracy: 0.4545\n",
            "Epoch 81/100\n",
            "7/7 [==============================] - 0s 15ms/step - loss: 0.0347 - accuracy: 0.9954 - val_loss: 3.1743 - val_accuracy: 0.4909\n",
            "Epoch 82/100\n",
            "7/7 [==============================] - 0s 17ms/step - loss: 0.0522 - accuracy: 0.9817 - val_loss: 3.2003 - val_accuracy: 0.4545\n",
            "Epoch 83/100\n",
            "7/7 [==============================] - 0s 14ms/step - loss: 0.0305 - accuracy: 0.9954 - val_loss: 3.3998 - val_accuracy: 0.4545\n",
            "Epoch 84/100\n",
            "7/7 [==============================] - 0s 16ms/step - loss: 0.0571 - accuracy: 0.9817 - val_loss: 2.7498 - val_accuracy: 0.4727\n",
            "Epoch 85/100\n",
            "7/7 [==============================] - 0s 16ms/step - loss: 0.0863 - accuracy: 0.9680 - val_loss: 2.9095 - val_accuracy: 0.4545\n",
            "Epoch 86/100\n",
            "7/7 [==============================] - 0s 16ms/step - loss: 0.0836 - accuracy: 0.9635 - val_loss: 3.3380 - val_accuracy: 0.4364\n",
            "Epoch 87/100\n",
            "7/7 [==============================] - 0s 14ms/step - loss: 0.1831 - accuracy: 0.9452 - val_loss: 3.1010 - val_accuracy: 0.4182\n",
            "Epoch 88/100\n",
            "7/7 [==============================] - 0s 15ms/step - loss: 0.1589 - accuracy: 0.9498 - val_loss: 2.7219 - val_accuracy: 0.4727\n",
            "Epoch 89/100\n",
            "7/7 [==============================] - 0s 16ms/step - loss: 0.1231 - accuracy: 0.9680 - val_loss: 2.6585 - val_accuracy: 0.4909\n",
            "Epoch 90/100\n",
            "7/7 [==============================] - 0s 16ms/step - loss: 0.0815 - accuracy: 0.9726 - val_loss: 2.6227 - val_accuracy: 0.5091\n",
            "Epoch 91/100\n",
            "7/7 [==============================] - 0s 16ms/step - loss: 0.0438 - accuracy: 0.9863 - val_loss: 2.7842 - val_accuracy: 0.4364\n",
            "Epoch 92/100\n",
            "7/7 [==============================] - 0s 16ms/step - loss: 0.0256 - accuracy: 0.9909 - val_loss: 2.7589 - val_accuracy: 0.4364\n",
            "Epoch 93/100\n",
            "7/7 [==============================] - 0s 16ms/step - loss: 0.0153 - accuracy: 1.0000 - val_loss: 2.9804 - val_accuracy: 0.4727\n",
            "Epoch 94/100\n",
            "7/7 [==============================] - 0s 16ms/step - loss: 0.0095 - accuracy: 1.0000 - val_loss: 3.2305 - val_accuracy: 0.4727\n",
            "Epoch 95/100\n",
            "7/7 [==============================] - 0s 17ms/step - loss: 0.0045 - accuracy: 1.0000 - val_loss: 3.3294 - val_accuracy: 0.4727\n",
            "Epoch 96/100\n",
            "7/7 [==============================] - 0s 16ms/step - loss: 0.0028 - accuracy: 1.0000 - val_loss: 3.4487 - val_accuracy: 0.4545\n",
            "Epoch 97/100\n",
            "7/7 [==============================] - 0s 17ms/step - loss: 0.0020 - accuracy: 1.0000 - val_loss: 3.5730 - val_accuracy: 0.4545\n",
            "Epoch 98/100\n",
            "7/7 [==============================] - 0s 18ms/step - loss: 0.0016 - accuracy: 1.0000 - val_loss: 3.6853 - val_accuracy: 0.4545\n",
            "Epoch 99/100\n",
            "7/7 [==============================] - 0s 15ms/step - loss: 0.0012 - accuracy: 1.0000 - val_loss: 3.7514 - val_accuracy: 0.4545\n",
            "Epoch 100/100\n",
            "7/7 [==============================] - 0s 14ms/step - loss: 0.0010 - accuracy: 1.0000 - val_loss: 3.7905 - val_accuracy: 0.4545\n"
          ]
        },
        {
          "output_type": "execute_result",
          "data": {
            "text/plain": [
              "<keras.src.callbacks.History at 0x7fea084abca0>"
            ]
          },
          "metadata": {},
          "execution_count": 20
        }
      ]
    },
    {
      "cell_type": "code",
      "source": [
        "# Evaluate the model\n",
        "test_loss, test_acc = model.evaluate(test_images, test_labels)\n",
        "print(f\"Test accuracy: {test_acc}\")"
      ],
      "metadata": {
        "colab": {
          "base_uri": "https://localhost:8080/"
        },
        "id": "gdcDGTnJkLF2",
        "outputId": "1622ef12-e6fb-46c0-9e84-12ef66e907ed"
      },
      "execution_count": 21,
      "outputs": [
        {
          "output_type": "stream",
          "name": "stdout",
          "text": [
            "2/2 [==============================] - 0s 13ms/step - loss: 3.7905 - accuracy: 0.4545\n",
            "Test accuracy: 0.4545454680919647\n"
          ]
        }
      ]
    },
    {
      "cell_type": "code",
      "source": [
        "from tensorflow.keras.models import save_model, load_model\n",
        "import pickle"
      ],
      "metadata": {
        "id": "GcbUFvvDlI_G"
      },
      "execution_count": 25,
      "outputs": []
    },
    {
      "cell_type": "code",
      "source": [
        "model.save('dogvscat.h5')"
      ],
      "metadata": {
        "colab": {
          "base_uri": "https://localhost:8080/"
        },
        "id": "b5Yik8rFl4KT",
        "outputId": "18bef6c5-5d26-4f01-e463-250993ee1967"
      },
      "execution_count": 23,
      "outputs": [
        {
          "output_type": "stream",
          "name": "stderr",
          "text": [
            "/usr/local/lib/python3.10/dist-packages/keras/src/engine/training.py:3103: UserWarning: You are saving your model as an HDF5 file via `model.save()`. This file format is considered legacy. We recommend using instead the native Keras format, e.g. `model.save('my_model.keras')`.\n",
            "  saving_api.save_model(\n"
          ]
        }
      ]
    },
    {
      "cell_type": "code",
      "source": [
        "loaded_model = load_model('dogvscat.h5')"
      ],
      "metadata": {
        "id": "fMfMLQm6l878"
      },
      "execution_count": 26,
      "outputs": []
    },
    {
      "cell_type": "code",
      "source": [
        "with open('dogandcat.pkl', 'wb') as file:\n",
        "    pickle.dump(loaded_model, file)"
      ],
      "metadata": {
        "id": "KsiGUF11nhgV"
      },
      "execution_count": 27,
      "outputs": []
    },
    {
      "cell_type": "code",
      "source": [],
      "metadata": {
        "id": "hRHRhXXEnrN7"
      },
      "execution_count": null,
      "outputs": []
    }
  ]
}